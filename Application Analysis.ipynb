{
 "cells": [
  {
   "cell_type": "markdown",
   "metadata": {},
   "source": [
    "# Most Common and Profitable Apps for Google Play and App Store Market"
   ]
  },
  {
   "cell_type": "markdown",
   "metadata": {},
   "source": [
    "My goal is to to find profile of appliactions which is the most popular and profitable on the market. I focus on free to download apps which main revenue consists of in-app ads. "
   ]
  },
  {
   "cell_type": "markdown",
   "metadata": {},
   "source": [
    "Aim is to analayze data which would help developers understand what kinds of apps are likely to attract more users."
   ]
  },
  {
   "cell_type": "markdown",
   "metadata": {},
   "source": [
    "## Exploring Data"
   ]
  },
  {
   "cell_type": "markdown",
   "metadata": {},
   "source": [
    "I will be using data from Keggle which consists information from Apple App Store and Google Play. They both have data about rating, size, price and many more. \n",
    "\n",
    "- A [data set](https://www.kaggle.com/ramamet4/app-store-apple-data-set-10k-apps/home) containing 7197 entries of iOS apps from App Store.\n",
    "- A [data set](https://www.kaggle.com/lava18/google-play-store-apps/home) containing rows entries of Android apps from Google Play.\n",
    "\n",
    "Let's beggin by oppening data. "
   ]
  },
  {
   "cell_type": "markdown",
   "metadata": {},
   "source": [
    "## Opening Data"
   ]
  },
  {
   "cell_type": "code",
   "execution_count": 104,
   "metadata": {},
   "outputs": [],
   "source": [
    "from csv import reader\n",
    "\n",
    "def extractor(file):\n",
    "    opened_file = open(file, encoding='utf8')\n",
    "    read_file = reader(opened_file)\n",
    "    apps_data = list(read_file)\n",
    "    return apps_data\n",
    "\n",
    "apple = extractor('AppleStore.csv')\n",
    "android = extractor('googleplaystore.csv')"
   ]
  },
  {
   "cell_type": "markdown",
   "metadata": {},
   "source": [
    "It would be beneficial to know exact number of rows and headers in each data set. Let's do it by adding neat little function."
   ]
  },
  {
   "cell_type": "code",
   "execution_count": 105,
   "metadata": {},
   "outputs": [
    {
     "name": "stdout",
     "output_type": "stream",
     "text": [
      "Number of columns in Apple is 17\n",
      "Number of rows in Apple is 7198\n",
      "Number of columns in Android is 13\n",
      "Number of rows in Android is 10842\n"
     ]
    }
   ],
   "source": [
    "def rows_and_columns (name, data):\n",
    "        print('Number of columns in', name, 'is', len(data[0]))\n",
    "        print('Number of rows in', name, 'is', len(data))\n",
    "rows_and_columns('Apple',apple)\n",
    "rows_and_columns('Android',android)"
   ]
  },
  {
   "cell_type": "markdown",
   "metadata": {},
   "source": [
    "What if we want some specfifc lines of rows in data?"
   ]
  },
  {
   "cell_type": "code",
   "execution_count": 106,
   "metadata": {},
   "outputs": [
    {
     "name": "stdout",
     "output_type": "stream",
     "text": [
      "['Sketch - Draw & Paint', 'ART_AND_DESIGN', '4.5', '215644', '25M', '50,000,000+', 'Free', '0', 'Teen', 'Art & Design', 'June 8, 2018', 'Varies with device', '4.2 and up']\n",
      "\n",
      "\n",
      "['Pixel Draw - Number Art Coloring Book', 'ART_AND_DESIGN', '4.3', '967', '2.8M', '100,000+', 'Free', '0', 'Everyone', 'Art & Design;Creativity', 'June 20, 2018', '1.1', '4.4 and up']\n",
      "\n",
      "\n"
     ]
    }
   ],
   "source": [
    "def data_slice(data,start,end):\n",
    "    slice=data[start:end]\n",
    "    for row in slice:\n",
    "        print(row)\n",
    "        print('\\n')\n",
    "data_slice(android,4,6)"
   ]
  },
  {
   "cell_type": "markdown",
   "metadata": {},
   "source": [
    "Now let's take a closer look at the header of Google Play data set."
   ]
  },
  {
   "cell_type": "code",
   "execution_count": 107,
   "metadata": {},
   "outputs": [
    {
     "name": "stdout",
     "output_type": "stream",
     "text": [
      "['App', 'Category', 'Rating', 'Reviews', 'Size', 'Installs', 'Type', 'Price', 'Content Rating', 'Genres', 'Last Updated', 'Current Ver', 'Android Ver']\n",
      "\n",
      "\n"
     ]
    }
   ],
   "source": [
    "data_slice(android,0,1)"
   ]
  },
  {
   "cell_type": "markdown",
   "metadata": {},
   "source": [
    "The columns that seem interesting are: 'Category', 'Reviews', 'Price', 'Content Rating', and 'Genres'. Not all column names are self-explanatory in this case, but details about each column can be found in the data set [documentation](https://www.kaggle.com/ramamet4/app-store-apple-data-set-10k-apps/home)."
   ]
  },
  {
   "cell_type": "markdown",
   "metadata": {},
   "source": [
    "## Deleteing Wrong Data"
   ]
  },
  {
   "cell_type": "markdown",
   "metadata": {},
   "source": [
    "After reaserching the discussion section on Google Play data set, I notced one of the threads pointing out and error for a row 10473. "
   ]
  },
  {
   "cell_type": "code",
   "execution_count": 108,
   "metadata": {},
   "outputs": [
    {
     "name": "stdout",
     "output_type": "stream",
     "text": [
      "['App', 'Category', 'Rating', 'Reviews', 'Size', 'Installs', 'Type', 'Price', 'Content Rating', 'Genres', 'Last Updated', 'Current Ver', 'Android Ver']\n",
      "\n",
      "\n",
      "['Photo Editor & Candy Camera & Grid & ScrapBook', 'ART_AND_DESIGN', '4.1', '159', '19M', '10,000+', 'Free', '0', 'Everyone', 'Art & Design', 'January 7, 2018', '1.0.0', '4.0.3 and up']\n",
      "\n",
      "\n",
      "['Life Made WI-Fi Touchscreen Photo Frame', '1.9', '19', '3.0M', '1,000+', 'Free', '0', 'Everyone', '', 'February 11, 2018', '1.0.19', '4.0 and up']\n"
     ]
    }
   ],
   "source": [
    "print(android[0]) #header\n",
    "print('\\n')\n",
    "print(android[1]) # correct row\n",
    "print('\\n')\n",
    "print(android[10473]) #inncorect row"
   ]
  },
  {
   "cell_type": "markdown",
   "metadata": {},
   "source": [
    "The row 10473 corresponds to the app Life Made WI-Fi Touchscreen Photo Frame, and we can see that the rating is 19. This is clearly off because the maximum rating for a Google Play app is 5. As a consequence, we'll delete this row."
   ]
  },
  {
   "cell_type": "code",
   "execution_count": 109,
   "metadata": {},
   "outputs": [
    {
     "name": "stdout",
     "output_type": "stream",
     "text": [
      "10842\n",
      "10841\n"
     ]
    }
   ],
   "source": [
    "print(len(android))\n",
    "#del android[10473]  # don't run this more than once\n",
    "print(len(android))"
   ]
  },
  {
   "cell_type": "markdown",
   "metadata": {},
   "source": [
    "## Removing Duplicate Data"
   ]
  },
  {
   "cell_type": "markdown",
   "metadata": {},
   "source": [
    "I am begging the process of Data Cleaning. Other threads on diccussion showed me that there are many duplicates of apps in data."
   ]
  },
  {
   "cell_type": "code",
   "execution_count": 110,
   "metadata": {},
   "outputs": [
    {
     "name": "stdout",
     "output_type": "stream",
     "text": [
      "['Instagram', 'SOCIAL', '4.5', '66577313', 'Varies with device', '1,000,000,000+', 'Free', '0', 'Teen', 'Social', 'July 31, 2018', 'Varies with device', 'Varies with device']\n",
      "['Instagram', 'SOCIAL', '4.5', '66577446', 'Varies with device', '1,000,000,000+', 'Free', '0', 'Teen', 'Social', 'July 31, 2018', 'Varies with device', 'Varies with device']\n",
      "['Instagram', 'SOCIAL', '4.5', '66577313', 'Varies with device', '1,000,000,000+', 'Free', '0', 'Teen', 'Social', 'July 31, 2018', 'Varies with device', 'Varies with device']\n",
      "['Instagram', 'SOCIAL', '4.5', '66509917', 'Varies with device', '1,000,000,000+', 'Free', '0', 'Teen', 'Social', 'July 31, 2018', 'Varies with device', 'Varies with device']\n"
     ]
    }
   ],
   "source": [
    "for app in android:\n",
    "    name = app[0]\n",
    "    if name == 'Instagram':\n",
    "        print(app)"
   ]
  },
  {
   "cell_type": "markdown",
   "metadata": {},
   "source": [
    "I want to count exactly how many duplicates are there in android data."
   ]
  },
  {
   "cell_type": "code",
   "execution_count": 111,
   "metadata": {},
   "outputs": [
    {
     "name": "stdout",
     "output_type": "stream",
     "text": [
      "There are: 1181 duplicates\n"
     ]
    }
   ],
   "source": [
    "duplicate_apps = []\n",
    "unique_apps = []\n",
    "\n",
    "for app in android:\n",
    "    name = app[0]\n",
    "    if name in unique_apps:\n",
    "        duplicate_apps.append(name)\n",
    "    else:\n",
    "        unique_apps.append(name)\n",
    "print('There are:',len(duplicate_apps), 'duplicates')"
   ]
  },
  {
   "cell_type": "markdown",
   "metadata": {},
   "source": [
    "I noticed, that I can not simply randomly delete all duplicates because they vary a little. You can see in provious code result that Instagram varies in number of reviews. We want to leave the row with most reviews\n",
    "as it is the most recent one. "
   ]
  },
  {
   "cell_type": "code",
   "execution_count": 120,
   "metadata": {},
   "outputs": [
    {
     "name": "stdout",
     "output_type": "stream",
     "text": [
      "1182\n"
     ]
    }
   ],
   "source": [
    "reviews_max = {}\n",
    "\n",
    "for app in android[1:]:\n",
    "    name = app[0]\n",
    "    reviews = float(app[3])\n",
    "    if name in reviews_max and reviews > reviews_max[name]:\n",
    "        reviews_max[name] = reviews\n",
    "    elif name not in reviews_max:\n",
    "        reviews_max[name] = reviews\n",
    "        \n",
    "print(len(android) - len(reviews_max) )"
   ]
  },
  {
   "cell_type": "markdown",
   "metadata": {},
   "source": [
    "As you can see there is 1181 duplicates in the data set. Now I will use this dictionary to create clean data_set"
   ]
  },
  {
   "cell_type": "code",
   "execution_count": 121,
   "metadata": {},
   "outputs": [],
   "source": [
    "clean_data = []\n",
    "allready_cleaned = []\n",
    "\n",
    "for app in android[1:]:\n",
    "    name = app[0]\n",
    "    rev = float(app[3])\n",
    "    if (reviews_max[name] == rev) and (name not in allready_cleaned):\n",
    "        clean_data.append(app)\n",
    "        allready_cleaned.append(name)"
   ]
  },
  {
   "cell_type": "markdown",
   "metadata": {},
   "source": [
    "I have created two empty lists to accomodate new clean data and apps which has been allready used. I did it in case of when the same app has the same number of reviews. "
   ]
  },
  {
   "cell_type": "code",
   "execution_count": 119,
   "metadata": {},
   "outputs": [
    {
     "name": "stdout",
     "output_type": "stream",
     "text": [
      "['Photo Editor & Candy Camera & Grid & ScrapBook', 'ART_AND_DESIGN', '4.1', '159', '19M', '10,000+', 'Free', '0', 'Everyone', 'Art & Design', 'January 7, 2018', '1.0.0', '4.0.3 and up']\n",
      "\n",
      "\n",
      "Number of columns in Clean Data is 13\n",
      "Number of rows in Clean Data is 9659\n"
     ]
    }
   ],
   "source": [
    "data_slice(clean_data,0,1)\n",
    "rows_and_columns('Clean Data', clean_data)"
   ]
  },
  {
   "cell_type": "markdown",
   "metadata": {},
   "source": [
    "Everything is just as expected. I can move on."
   ]
  },
  {
   "cell_type": "markdown",
   "metadata": {},
   "source": [
    "## Non-English Names"
   ]
  },
  {
   "cell_type": "code",
   "execution_count": 137,
   "metadata": {},
   "outputs": [
    {
     "name": "stdout",
     "output_type": "stream",
     "text": [
      "['U Launcher Lite – FREE Live Cool Themes, Hide Apps', 'CarMax – Cars for Sale: Search Used Car Inventory', 'AutoScout24 Switzerland – Find your new car', 'Zona Azul Digital Fácil SP CET - OFFICIAL São Paulo', 'Zona Azul Digital Fácil SP CET - OFFICIAL São Paulo', 'Wattpad 📖 Free Books', 'ReadEra – free ebook reader', 'Docs To Go™ Free Office Suite', 'USPS MOBILE®', 'Invoice 2go — Professional Invoices and Estimates']\n",
      "796\n",
      "305\n"
     ]
    }
   ],
   "source": [
    "english_set = []\n",
    "non_english_set = []\n",
    "\n",
    "def check_english(app):\n",
    "    for row in app:\n",
    "        flag = 0\n",
    "        name = row[0]\n",
    "        for letter in name:\n",
    "            if ord(letter) > 127:\n",
    "                flag += 1\n",
    "                if flag > 3:\n",
    "                    non_english_set.append(name)\n",
    "                else:\n",
    "                    english_set.append(name)\n",
    "                \n",
    "\n",
    "check_english(android[1:])\n",
    "\n",
    "print(english_set[:10])\n",
    "print(len(english_set))\n",
    "print(len(non_english_set))"
   ]
  },
  {
   "cell_type": "code",
   "execution_count": null,
   "metadata": {},
   "outputs": [],
   "source": []
  }
 ],
 "metadata": {
  "kernelspec": {
   "display_name": "Python 3",
   "language": "python",
   "name": "python3"
  },
  "language_info": {
   "codemirror_mode": {
    "name": "ipython",
    "version": 3
   },
   "file_extension": ".py",
   "mimetype": "text/x-python",
   "name": "python",
   "nbconvert_exporter": "python",
   "pygments_lexer": "ipython3",
   "version": "3.7.3"
  }
 },
 "nbformat": 4,
 "nbformat_minor": 2
}
